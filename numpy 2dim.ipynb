{
 "cells": [
  {
   "cell_type": "code",
   "execution_count": 20,
   "metadata": {},
   "outputs": [
    {
     "name": "stdout",
     "output_type": "stream",
     "text": [
      "2 dim array X:  [[1 0 1]\n",
      " [2 2 2]]\n",
      "first row X[0]: [1 0 1]\n",
      "second row X[1]: [2 2 2]\n",
      "2nd row, before 3: X[1:3]: [[2 2 2]]\n",
      "First row, item 2: X[1,2]: 2\n",
      "first row, start at 1 to less than 3: X[0,1:3] [0 1]\n",
      "first row, 2nd item: X[0,1] 0\n"
     ]
    }
   ],
   "source": [
    "#two dimensional numpy\n",
    "import numpy as np\n",
    "X=np.array([[1,0,1],[2,2,2]]) \n",
    "print (\"2 dim array X: \",X)\n",
    "\n",
    "out = X[0]\n",
    "print (\"first row X[0]:\", out)\n",
    "\n",
    "out=X[1]\n",
    "print (\"second row X[1]:\", out)\n",
    "\n",
    "out = X[1:3]\n",
    "print (\"2nd row, before 3: X[1:3]:\",out)\n",
    "\n",
    "out = X[1,2]\n",
    "print (\"First row, item 2: X[1,2]:\",out)\n",
    "\n",
    "out=X[0,1:3]\n",
    "print (\"first row, start at 1 to less than 3: X[0,1:3]\",out)\n",
    "\n",
    "out=X[0,1]\n",
    "print (\"first row, 2nd item: X[0,1]\",out)\n"
   ]
  },
  {
   "cell_type": "code",
   "execution_count": null,
   "metadata": {},
   "outputs": [],
   "source": []
  }
 ],
 "metadata": {
  "kernelspec": {
   "display_name": "Python 3",
   "language": "python",
   "name": "python3"
  },
  "language_info": {
   "codemirror_mode": {
    "name": "ipython",
    "version": 3
   },
   "file_extension": ".py",
   "mimetype": "text/x-python",
   "name": "python",
   "nbconvert_exporter": "python",
   "pygments_lexer": "ipython3",
   "version": "3.6.4"
  }
 },
 "nbformat": 4,
 "nbformat_minor": 2
}
